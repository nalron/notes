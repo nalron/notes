{
  "nbformat": 4,
  "nbformat_minor": 0,
  "metadata": {
    "colab": {
      "name": "Copie de Tirer pleinement parti de votre abonnement à Colab",
      "provenance": [],
      "collapsed_sections": []
    },
    "kernelspec": {
      "display_name": "Python 3",
      "name": "python3"
    }
  },
  "cells": [
    {
      "cell_type": "markdown",
      "metadata": {
        "id": "SKQ4bH7qMGrA"
      },
      "source": [
        "# Tirer pleinement parti de votre abonnement à Colab\n",
        "\n"
      ]
    },
    {
      "cell_type": "markdown",
      "metadata": {
        "id": "QMMqmdiYMkvi"
      },
      "source": [
        "## GPU plus rapides\n",
        "\n",
        "Avec Colab Pro, vous bénéficiez d'un accès prioritaire à nos meilleurs GPU. Par exemple, vous pouvez disposer de GPU T4 ou P100, tandis que la plupart des utilisateurs de la version standard de Colab obtiennent des modèles K80 plus lents. Vous pouvez voir les GPU qui vous sont attribués à tout moment en exécutant la cellule suivante."
      ]
    },
    {
      "cell_type": "code",
      "metadata": {
        "id": "23TOba33L4qf"
      },
      "source": [
        "gpu_info = !nvidia-smi\n",
        "gpu_info = '\\n'.join(gpu_info)\n",
        "if gpu_info.find('failed') >= 0:\n",
        "  print('Select the Runtime > \"Change runtime type\" menu to enable a GPU accelerator, ')\n",
        "  print('and then re-execute this cell.')\n",
        "else:\n",
        "  print(gpu_info)"
      ],
      "execution_count": null,
      "outputs": []
    },
    {
      "cell_type": "markdown",
      "metadata": {
        "id": "Sa-IrJS1aRVJ"
      },
      "source": [
        "Pour utiliser un GPU avec votre notebook, sélectionnez Exécution &gt; Modifier le type d'exécution, puis dans le menu déroulant \"Accélérateur matériel\", sélectionnez l'option \"GPU\"."
      ]
    },
    {
      "cell_type": "markdown",
      "metadata": {
        "id": "65MSuHKqNeBZ"
      },
      "source": [
        "## Plus de mémoire\n",
        "\n",
        "<p>Avec Colab Pro, vous avez la possibilité d'accéder à des VM à haute capacité de mémoire sous réserve de disponibilité. Pour définir un environnement d'exécution à haute capacité de mémoire sur votre notebook, sélectionnez Exécution &#62; Modifier le type d'exécution, puis sélectionnez \"Mémoire RAM élevée\" dans le menu déroulant \"Configuration de l'environnement d'exécution\".</p>\n",
        "<p>Vous pouvez surveiller la quantité de mémoire à votre disposition à tout moment en exécutant le code suivant.</p>"
      ]
    },
    {
      "cell_type": "code",
      "metadata": {
        "id": "V1G82GuO-tez"
      },
      "source": [
        "from psutil import virtual_memory\n",
        "ram_gb = virtual_memory().total / 1e9\n",
        "print('Your runtime has {:.1f} gigabytes of available RAM\\n'.format(ram_gb))\n",
        "\n",
        "if ram_gb < 20:\n",
        "  print('To enable a high-RAM runtime, select the Runtime > \"Change runtime type\"')\n",
        "  print('menu, and then select High-RAM in the Runtime shape dropdown. Then, ')\n",
        "  print('re-execute this cell.')\n",
        "else:\n",
        "  print('You are using a high-RAM runtime!')"
      ],
      "execution_count": null,
      "outputs": []
    },
    {
      "cell_type": "markdown",
      "metadata": {
        "id": "BJW8Qi-pPpep"
      },
      "source": [
        "## Environnements d'exécution plus durables\n",
        "\n",
        "Tous les environnements d'exécution de Colab sont réinitialisés après un certain temps &#40;plus rapidement s'il ne s'agit pas d'un environnement d'exécution de code&#41;. Bien que les abonnés de Colab Pro soient soumis à certaines limites, ils bénéficient d'un environnement d'exécution à peu près deux fois plus durable que les non-abonnés."
      ]
    },
    {
      "cell_type": "markdown",
      "metadata": {
        "id": "uLlTRcMM_h0k"
      },
      "source": [
        "## Limites de ressources dans Colab Pro\n",
        "\n",
        "Vos ressources ne sont pas illimitées dans Colab Pro. Pour profiter au maximum de Colab Pro, veuillez éviter de recourir inutilement aux ressources. Par exemple, n'utilisez un GPU ou un environnement d'exécution à mémoire RAM élevée que lorsque vous en avez besoin, et fermez les onglets Colab lorsque vous avez terminé.\n"
      ]
    },
    {
      "cell_type": "markdown",
      "metadata": {
        "id": "mm8FzEidvPs6"
      },
      "source": [
        "## Envoyer vos commentaires\n",
        "\n",
        "<p>Si vous avez des commentaires, n'hésitez pas à nous les faire parvenir. Pour cela, il vous suffit de sélectionner Aide &gt; Envoyer des commentaires. Si vous êtes soumis à des limites d'utilisation dans Colab Pro et que vous êtes intéressé par un produit avec des limites d'utilisation plus permissives, faites-le nous savoir.</p>\n",
        "<p>Si vous rencontrez des erreurs ou d'autres problèmes de facturation &#40;paiements&#41; dans Colab Pro, veuillez nous contacter à l'adresse e-mail <a href=\"mailto:colab-billing@google.com\">colab-billing@google.com</a>.</p>"
      ]
    }
  ]
}